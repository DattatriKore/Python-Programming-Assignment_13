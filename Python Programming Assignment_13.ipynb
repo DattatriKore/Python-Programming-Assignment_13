{
 "cells": [
  {
   "cell_type": "code",
   "execution_count": 1,
   "id": "1802e7c2",
   "metadata": {},
   "outputs": [
    {
     "name": "stdout",
     "output_type": "stream",
     "text": [
      "provide D in with comma seperated: 100,150,180\n",
      "['18', '22', '24']\n"
     ]
    }
   ],
   "source": [
    "'''\n",
    "Q.[1] : Write a program that calculates and prints the value according to the given formula:\n",
    "\n",
    "        Q = Square root of [(2 * C * D)/H]\n",
    "\n",
    "        Following are the fixed values of C and H:\n",
    "    \n",
    "        C is 50. H is 30.\n",
    "\n",
    "        D is the variable whose values should be input to your program in a comma-separated sequence.\n",
    "\n",
    "        Example\n",
    "\n",
    "        Let us assume the following comma separated input sequence is given to the program:\n",
    "    \n",
    "        100,150,180\n",
    "\n",
    "        The output of the program should be:\n",
    "    \n",
    "        18,22,24\n",
    "\n",
    "'''\n",
    "\n",
    "\n",
    "import math\n",
    "\n",
    "num = input('provide D in with comma seperated: ')\n",
    "num = num.split(',')\n",
    "\n",
    "num_list = []\n",
    "\n",
    "for D in num:\n",
    "    Q = round(math.sqrt((2 * 50 * int(D) / 30)))\n",
    "    num_list.append(str(Q))\n",
    "\n",
    "print(num_list)"
   ]
  },
  {
   "cell_type": "code",
   "execution_count": 4,
   "id": "6aa22874",
   "metadata": {},
   "outputs": [
    {
     "name": "stdout",
     "output_type": "stream",
     "text": [
      "Enter input value : 3\n",
      "Enter input value : 5\n",
      "Enter The Element :\n"
     ]
    },
    {
     "data": {
      "text/plain": [
       "[[0, 0, 0, 0, 0], [0, 1, 2, 3, 4], [0, 2, 4, 6, 8]]"
      ]
     },
     "execution_count": 4,
     "metadata": {},
     "output_type": "execute_result"
    }
   ],
   "source": [
    "'''\n",
    "Q.[2] : Write a program which takes 2 digits, X,Y as input and generates a 2-dimensional array. The element value in the \n",
    "\n",
    "        i-th row and j-th column of the array should be i*j.\n",
    "\n",
    "        Note: i=0,1.., X-1; j=0,1,¡Y-1.\n",
    "\n",
    "        Example\n",
    " \n",
    "        Suppose the following inputs are given to the program:\n",
    "\n",
    "        3,5\n",
    "\n",
    "        Then, the output of the program should be:\n",
    "\n",
    "        [[0, 0, 0, 0, 0], [0, 1, 2, 3, 4], [0, 2, 4, 6, 8]]\n",
    "\n",
    "'''\n",
    "\n",
    "def Create_Matrix(a,b):\n",
    "    A = []\n",
    "    \n",
    "    for i in range(a):\n",
    "        row = []\n",
    "        \n",
    "        for j in range(b):\n",
    "            row.append(i*j)\n",
    "            \n",
    "        A.append(row)\n",
    "        \n",
    "    return A\n",
    "\n",
    "a = int(input(\"Enter input value : \"))\n",
    "b = int(input(\"Enter input value : \"))\n",
    "\n",
    "Create_Matrix(a,b)"
   ]
  },
  {
   "cell_type": "code",
   "execution_count": 13,
   "id": "93055351",
   "metadata": {},
   "outputs": [
    {
     "name": "stdout",
     "output_type": "stream",
     "text": [
      "comma separated sequence of words :  without,hello,bag,world\n",
      "[' without', 'bag', 'hello', 'world']\n"
     ]
    }
   ],
   "source": [
    "'''\n",
    "Q.[3] : Write a program that accepts a comma separated sequence of words as input and prints the words in a comma-separated\n",
    "\n",
    "        sequence after sorting them alphabetically.\n",
    "        \n",
    "        Suppose the following input is supplied to the program:\n",
    "        \n",
    "        without,hello,bag,world\n",
    "        \n",
    "        Then, the output should be:\n",
    "        \n",
    "        bag,hello,without,world\n",
    "\n",
    "'''\n",
    "\n",
    "\n",
    "items = input(\"comma separated sequence of words : \")\n",
    "words = sorted(set(items.split(',')))\n",
    "print(words)"
   ]
  },
  {
   "cell_type": "code",
   "execution_count": 17,
   "id": "8148d74a",
   "metadata": {},
   "outputs": [
    {
     "name": "stdout",
     "output_type": "stream",
     "text": [
      "Enter space sepeated words: hello world and practice makes perfect and hello world again\n",
      "\n",
      "again and hello makes perfect practice world\n"
     ]
    }
   ],
   "source": [
    "'''\n",
    "Q.[4] : Write a program that accepts a sequence of whitespace separated words as input and prints the words after removing\n",
    "\n",
    "        all duplicate words and sorting them alphanumerically.\n",
    "        \n",
    "        Suppose the following input is supplied to the program:\n",
    "        \n",
    "        hello world and practice makes perfect and hello world again\n",
    "        \n",
    "        Then, the output should be:\n",
    "        \n",
    "        again and hello makes perfect practice world\n",
    "\n",
    "'''\n",
    "\n",
    "d = input(\"Enter space sepeated words: \")\n",
    "words = [word for word in d.split(\" \")]\n",
    "print(\"\\r\")\n",
    "print(\" \".join(sorted(list(set(words)))))"
   ]
  },
  {
   "cell_type": "code",
   "execution_count": 23,
   "id": "84d47eed",
   "metadata": {},
   "outputs": [
    {
     "name": "stdout",
     "output_type": "stream",
     "text": [
      "Enter letters and digits: hello world! 123\n",
      "Letters 10\n",
      "Digits 3\n"
     ]
    }
   ],
   "source": [
    "'''\n",
    "Q.[5] : Write a program that accepts a sentence and calculate the number of letters and digits.\n",
    "\n",
    "        Suppose the following input is supplied to the program:\n",
    "\n",
    "        hello world! 123\n",
    "\n",
    "        Then, the output should be:\n",
    "\n",
    "        LETTERS 10\n",
    "\n",
    "        DIGITS 3\n",
    "\n",
    "'''\n",
    "\n",
    "d = input(\"Enter letters and digits: \")\n",
    "digits = letters = 0\n",
    "for a in d:\n",
    "    if a.isdigit():\n",
    "        digits = digits + 1\n",
    "    elif a.isalpha():\n",
    "        letters = letters + 1\n",
    "    else:\n",
    "        pass\n",
    "    \n",
    "print(\"Letters\",letters)\n",
    "print(\"Digits\",digits)"
   ]
  },
  {
   "cell_type": "code",
   "execution_count": 1,
   "id": "d23da676",
   "metadata": {},
   "outputs": [
    {
     "name": "stdout",
     "output_type": "stream",
     "text": [
      "ABd1234@1,a F1#,2w3E*,2We3345\n",
      "ABd1234@1\n"
     ]
    }
   ],
   "source": [
    "'''\n",
    "Q.[6] : A website requires the users to input username and password to register. Write a program to\n",
    "\n",
    "        check the validity of password input by users.\n",
    "        \n",
    "        Following are the criteria for checking the password:\n",
    "        \n",
    "        1. At least 1 letter between [a-z]\n",
    "        \n",
    "        2. At least 1 number between [0-9]\n",
    "        \n",
    "        1. At least 1 letter between [A-Z]\n",
    "        \n",
    "        3. At least 1 character from [$#@]\n",
    "        \n",
    "        4. Minimum length of transaction password: 6\n",
    "        \n",
    "        5. Maximum length of transaction password: 12\n",
    "        \n",
    "        Your program should accept a sequence of comma separated passwords and will check them\n",
    "        \n",
    "        according to the above criteria. Passwords that match the criteria are to be printed, each\n",
    "        \n",
    "        separated by a comma.\n",
    "        \n",
    "        Example\n",
    "        \n",
    "        If the following passwords are given as input to the program:\n",
    "        \n",
    "        ABd1234@1,a F1#,2w3E*,2We3345\n",
    "        \n",
    "        Then, the output of the program should be:\n",
    "        \n",
    "        ABd1234@1\n",
    "\n",
    "'''\n",
    "\n",
    "import re\n",
    "value = []\n",
    "items=[x for x in input().split(',')]\n",
    "for p in items:\n",
    "    if len(p)<6 or len(p)>12:\n",
    "        continue\n",
    "    else:\n",
    "        pass\n",
    "    if not re.search(\"[a-z]\",p):\n",
    "        continue\n",
    "    elif not re.search(\"[0-9]\",p):\n",
    "        continue\n",
    "    elif not re.search(\"[A-Z]\",p):\n",
    "        continue\n",
    "    elif not re.search(\"[$#@]\",p):\n",
    "        continue\n",
    "    elif re.search(\"\\s\",p):\n",
    "        continue\n",
    "    else:\n",
    "        pass\n",
    "    value.append(p)\n",
    "print(\",\".join(value))"
   ]
  },
  {
   "cell_type": "code",
   "execution_count": null,
   "id": "af13471c",
   "metadata": {},
   "outputs": [],
   "source": []
  }
 ],
 "metadata": {
  "kernelspec": {
   "display_name": "Python 3 (ipykernel)",
   "language": "python",
   "name": "python3"
  },
  "language_info": {
   "codemirror_mode": {
    "name": "ipython",
    "version": 3
   },
   "file_extension": ".py",
   "mimetype": "text/x-python",
   "name": "python",
   "nbconvert_exporter": "python",
   "pygments_lexer": "ipython3",
   "version": "3.9.13"
  }
 },
 "nbformat": 4,
 "nbformat_minor": 5
}
